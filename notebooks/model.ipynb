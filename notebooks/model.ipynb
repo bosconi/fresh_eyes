{
 "cells": [
  {
   "cell_type": "code",
   "execution_count": 54,
   "metadata": {},
   "outputs": [],
   "source": [
    "from tensorflow.python.keras import backend as K\n",
    "from tensorflow.python.keras.applications.resnet50 import ResNet50, preprocess_input\n",
    "from tensorflow.python.keras.preprocessing import image\n",
    "from tensorflow.python.keras.layers import Conv2D, GlobalAveragePooling2D, Input, Dropout, Dense\n",
    "from tensorflow.python.keras.utils import to_categorical\n",
    "from tensorflow.python.keras.models import Model\n",
    "from tensorflow.python.keras.datasets import cifar10\n",
    "from tensorflow.python.keras.callbacks import Callback, TensorBoard\n",
    "from tensorflow.python.keras.backend import set_session\n",
    "from tensorflow.python.keras.models import load_model\n",
    "import tensorflow as tf\n",
    "from sklearn.model_selection import train_test_split\n",
    "from tqdm import tqdm\n",
    "from collections import defaultdict\n",
    "from matplotlib.pyplot import imshow\n",
    "from PIL import Image\n",
    "import datetime\n",
    "import numpy as np\n",
    "import os, glob, io\n",
    "import base64\n",
    "%matplotlib inline"
   ]
  },
  {
   "cell_type": "code",
   "execution_count": 55,
   "metadata": {},
   "outputs": [],
   "source": [
    "sess = tf.Session()\n",
    "graph = tf.get_default_graph()\n",
    "set_session(sess)"
   ]
  },
  {
   "cell_type": "code",
   "execution_count": 56,
   "metadata": {},
   "outputs": [],
   "source": [
    "batch_size = 32\n",
    "test_train_split = 0.2\n",
    "max_epoch = 1\n",
    "dropout_prob = 0.3\n",
    "shape = (224, 224)\n",
    "train_size_per_label = 500\n",
    "test_size_per_label = 100\n",
    "test_train_split=0.2\n",
    "image_path = \"/Users/adammenges/Development/notebooks/basicClassifier/houses_120px_classes\""
   ]
  },
  {
   "cell_type": "code",
   "execution_count": 57,
   "metadata": {},
   "outputs": [],
   "source": [
    "def resize(arr, shape):\n",
    "    return np.array(Image.fromarray(arr).resize(shape))\n",
    "\n",
    "def decode_img(msg):\n",
    "#     msg = msg[msg.find(b\"<plain_txt_msg:img>\")+len(b\"<plain_txt_msg:img>\"):\n",
    "#               msg.find(b\"<!plain_txt_msg>\")]\n",
    "    msg = base64.b64decode(msg)\n",
    "    buf = io.BytesIO(msg)\n",
    "    img = Image.open(buf)\n",
    "    return img\n",
    "\n",
    "def preprocess(arr, shape=(224, 224)):\n",
    "    arr = np.array([resize(arr[i], shape) for i in range(0, len(arr))]).astype('float32')\n",
    "    arr = preprocess_input(arr)\n",
    "    return arr\n",
    "    \n",
    "def get_local_images():\n",
    "    classes = os.listdir(image_path)\n",
    "    input_arr = []\n",
    "    target_labels = []\n",
    "    for class_idx in range(len(classes)):\n",
    "        paths = glob.glob(os.path.join(image_path, classes[class_idx]) + \"/*.png\")\n",
    "        for img_path in tqdm(paths, desc=f'Processing label {classes[class_idx]}: '):\n",
    "            img = image.load_img(img_path, target_size=(224, 224))\n",
    "            x = image.img_to_array(img)\n",
    "#             x = np.expand_dims(x, axis=0)\n",
    "            x = preprocess_input(x)\n",
    "            target_labels.append(class_idx)\n",
    "            input_arr.append(x)\n",
    "    X_train, X_test, y_train, y_test = train_test_split(input_arr, target_labels, test_size=test_train_split)\n",
    "    X_train = np.array(X_train)\n",
    "    X_test = np.array(X_test)\n",
    "    y_train = np.array(y_train)\n",
    "    y_test = np.array(y_test)\n",
    "    return X_train, X_test, y_train, y_test, classes\n",
    "\n",
    "def get_cifar10():\n",
    "    (input_train, out_train), (input_test, out_test) = cifar10.load_data()\n",
    "    return input_train, input_test, out_train, out_test, range(10)\n",
    "\n",
    "def get_resnet50(shape=(224, 224, 3)):\n",
    "    return ResNet50(weights='imagenet', include_top=False, input_shape=shape)\n",
    "\n",
    "def restrain_data(input_train, out_train, input_test, out_test, num_class, num_train, num_test, shape=(224, 224)):\n",
    "    train_dict = defaultdict(list)\n",
    "    test_dict = defaultdict(list)\n",
    "    [train_dict[out_train[idx][0]].append(input_train[idx]) for idx in range(input_train.shape[0])]\n",
    "    [test_dict[out_test[idx][0]].append(input_test[idx]) for idx in range(input_test.shape[0])]\n",
    "    restrain_class = range(num_class)\n",
    "    restrain_train = [[train_dict[i][idx], i] for idx in range(num_train) for i in restrain_class]\n",
    "    restrain_test = [[test_dict[i][idx], i] for idx in range(num_test) for i in restrain_class]\n",
    "    rand_train_idx = np.random.choice(num_train * num_class, num_train * num_class)\n",
    "    rand_test_idx = np.random.choice(num_test * num_class, num_test * num_class)\n",
    "    i_train = np.array([restrain_train[idx][0] for idx in rand_train_idx])\n",
    "    o_train =  np.array([[restrain_train[idx][1]] for idx in rand_train_idx])\n",
    "    i_test = np.array([restrain_test[idx][0] for idx in rand_test_idx])\n",
    "    o_test =  np.array([[restrain_test[idx][1]] for idx in rand_test_idx])\n",
    "    i_train = preprocess(i_train, shape=shape)\n",
    "    i_test = preprocess(i_test, shape=shape)\n",
    "    return i_train, i_test, o_train, o_test, restrain_class"
   ]
  },
  {
   "cell_type": "code",
   "execution_count": 58,
   "metadata": {},
   "outputs": [
    {
     "name": "stderr",
     "output_type": "stream",
     "text": [
      "Processing label Saltbox: 100%|██████████| 52/52 [00:00<00:00, 1226.04it/s]\n",
      "Processing label QueenAnne: 100%|██████████| 58/58 [00:00<00:00, 1312.63it/s]\n",
      "Processing label AFrame: 100%|██████████| 71/71 [00:00<00:00, 1305.00it/s]\n",
      "Processing label Patio: 100%|██████████| 32/32 [00:00<00:00, 1332.17it/s]\n",
      "Processing label BayGable: 100%|██████████| 43/43 [00:00<00:00, 1271.62it/s]\n",
      "Processing label Dogtrot: 100%|██████████| 46/46 [00:00<00:00, 1264.12it/s]\n"
     ]
    }
   ],
   "source": [
    "input_train, input_test, out_train, out_test, classes = get_local_images()"
   ]
  },
  {
   "cell_type": "code",
   "execution_count": 59,
   "metadata": {},
   "outputs": [
    {
     "data": {
      "text/plain": [
       "(61, 224, 224, 3)"
      ]
     },
     "execution_count": 59,
     "metadata": {},
     "output_type": "execute_result"
    }
   ],
   "source": [
    "input_test.shape"
   ]
  },
  {
   "cell_type": "code",
   "execution_count": 60,
   "metadata": {},
   "outputs": [
    {
     "data": {
      "text/plain": [
       "(50000, 32, 32, 3)"
      ]
     },
     "execution_count": 60,
     "metadata": {},
     "output_type": "execute_result"
    }
   ],
   "source": [
    "x = get_cifar10()\n",
    "x[0].shape"
   ]
  },
  {
   "cell_type": "code",
   "execution_count": 61,
   "metadata": {},
   "outputs": [],
   "source": [
    "# input_train, input_test, out_train, out_test, classes = restrain_data(\n",
    "#     input_train, \n",
    "#     out_train, \n",
    "#     input_test,\n",
    "#     out_test, \n",
    "#     len(classes),\n",
    "#     train_size_per_label,\n",
    "#     test_size_per_label)\n",
    "# input_train = preprocess(input_train, shape=shape)\n",
    "# input_test = preprocess(input_test, shape=shape)"
   ]
  },
  {
   "cell_type": "code",
   "execution_count": 62,
   "metadata": {},
   "outputs": [],
   "source": [
    "total_train_steps = len(input_train) // batch_size\n",
    "out_train = to_categorical(out_train, len(classes))\n",
    "out_test = to_categorical(out_test, len(classes))"
   ]
  },
  {
   "cell_type": "code",
   "execution_count": 63,
   "metadata": {},
   "outputs": [],
   "source": [
    "def batch_generator(x, y, batch_size=32):\n",
    "    while True:\n",
    "        for step in range(len(x) // batch_size):\n",
    "            yield x[step*batch_size:(step+1)*batch_size, ...], y[step*batch_size:(step+1)*batch_size, ...]\n",
    "\n",
    "class RecordAccuracy(Callback):\n",
    "    def on_epoch_begin(self, epoch, logs=None):\n",
    "        print(f'Running epoch {epoch}. Total {total_train_steps} batches')\n",
    "    def on_batch_end(self, batch, logs=None):\n",
    "        loss = logs['loss']\n",
    "        if not batch % 10:\n",
    "            print(f'Running batch {batch}: train loss - {loss}')\n",
    "    def on_epoch_end(self, epoch, logs=None):\n",
    "        loss = logs[\"loss\"]\n",
    "        val_acc = logs[\"val_acc\"]\n",
    "        print(f'Epoch {epoch}: train loss - {loss}. test accuracy - {val_acc}')\n",
    "        \n",
    "def freeze_layers(model, layer_num):\n",
    "    for layer in model.layers[:layer_num]:\n",
    "        layer.trainable = False\n",
    "            \n",
    "def train_layers(model, layer_num):\n",
    "    for layer in model.layers[layer_num:]:\n",
    "        layer.trainable = True"
   ]
  },
  {
   "cell_type": "code",
   "execution_count": 64,
   "metadata": {},
   "outputs": [
    {
     "name": "stderr",
     "output_type": "stream",
     "text": [
      "/anaconda3/lib/python3.7/site-packages/keras_applications/resnet50.py:265: UserWarning: The output shape of `ResNet50(include_top=False)` has been changed since Keras 2.2.0.\n",
      "  warnings.warn('The output shape of `ResNet50(include_top=False)` '\n"
     ]
    }
   ],
   "source": [
    "resnet50 = get_resnet50(shape=shape + (3,))\n",
    "bottleneck_train_features = resnet50.predict(input_train)\n",
    "bottleneck_test_features = resnet50.predict(input_test)"
   ]
  },
  {
   "cell_type": "code",
   "execution_count": 65,
   "metadata": {},
   "outputs": [
    {
     "name": "stdout",
     "output_type": "stream",
     "text": [
      "Model: \"model_1\"\n",
      "_________________________________________________________________\n",
      "Layer (type)                 Output Shape              Param #   \n",
      "=================================================================\n",
      "input_4 (InputLayer)         [(None, 7, 7, 2048)]      0         \n",
      "_________________________________________________________________\n",
      "conv2d_1 (Conv2D)            (None, 6, 6, 100)         819300    \n",
      "_________________________________________________________________\n",
      "dropout_2 (Dropout)          (None, 6, 6, 100)         0         \n",
      "_________________________________________________________________\n",
      "global_average_pooling2d_1 ( (None, 100)               0         \n",
      "_________________________________________________________________\n",
      "dropout_3 (Dropout)          (None, 100)               0         \n",
      "_________________________________________________________________\n",
      "dense_1 (Dense)              (None, 6)                 606       \n",
      "=================================================================\n",
      "Total params: 819,906\n",
      "Trainable params: 819,906\n",
      "Non-trainable params: 0\n",
      "_________________________________________________________________\n"
     ]
    }
   ],
   "source": [
    "in_layer = Input(shape=(bottleneck_train_features.shape[1:]))\n",
    "x = Conv2D(filters=100, kernel_size=2)(in_layer)\n",
    "x = Dropout(0.4)(x)\n",
    "x = GlobalAveragePooling2D()(x)\n",
    "x = Dropout(0.3)(x)\n",
    "predictions = Dense(len(classes), activation='softmax')(x)\n",
    "model = Model(inputs=in_layer, outputs=predictions)\n",
    "model.summary()"
   ]
  },
  {
   "cell_type": "markdown",
   "metadata": {},
   "source": [
    "## Train the model!\n",
    "\n",
    "And now it's time to train the model!"
   ]
  },
  {
   "cell_type": "code",
   "execution_count": 66,
   "metadata": {},
   "outputs": [
    {
     "name": "stdout",
     "output_type": "stream",
     "text": [
      "Running epoch 0. Total 7 batches\n",
      "Running batch 0: train loss - 2.5737788677215576\n",
      "Epoch 0: train loss - 4.872777155467442. test accuracy - 0.7540983557701111\n",
      "7/7 - 2s - loss: 4.8728 - acc: 0.4152 - val_loss: 1.5288 - val_acc: 0.7541\n"
     ]
    },
    {
     "data": {
      "text/plain": [
       "<tensorflow.python.keras.callbacks.History at 0x7fe80a1adba8>"
      ]
     },
     "execution_count": 66,
     "metadata": {},
     "output_type": "execute_result"
    }
   ],
   "source": [
    "model.compile(optimizer='adam', loss='categorical_crossentropy', metrics=['acc'])\n",
    "model.fit_generator(batch_generator(bottleneck_train_features, out_train),\n",
    "                    steps_per_epoch=len(bottleneck_train_features) // batch_size,\n",
    "                      validation_data=(bottleneck_test_features, out_test), \n",
    "                      verbose=2,\n",
    "                      epochs=max_epoch,\n",
    "                      callbacks=[RecordAccuracy(), TensorBoard()])"
   ]
  },
  {
   "cell_type": "markdown",
   "metadata": {},
   "source": [
    "# Server\n",
    "\n",
    "Okay now let's host a server for grasshopper"
   ]
  },
  {
   "cell_type": "code",
   "execution_count": 67,
   "metadata": {},
   "outputs": [
    {
     "name": "stdout",
     "output_type": "stream",
     "text": [
      "[[1.4172211e-22 9.7809210e-30 1.0000000e+00 5.7962686e-21 2.2097266e-24\n",
      "  8.6659401e-16]]\n",
      "['Saltbox', 'QueenAnne', 'AFrame', 'Patio', 'BayGable', 'Dogtrot']\n",
      "----\n",
      "(224, 224, 3)\n",
      "[(1.417221e-22, 'Saltbox'), (9.780921e-30, 'QueenAnne'), (1.0, 'AFrame'), (5.7962686e-21, 'Patio'), (2.2097266e-24, 'BayGable'), (8.66594e-16, 'Dogtrot')]\n"
     ]
    },
    {
     "data": {
      "text/plain": [
       "array([0., 0., 1., 0., 0., 0.], dtype=float32)"
      ]
     },
     "execution_count": 67,
     "metadata": {},
     "output_type": "execute_result"
    }
   ],
   "source": [
    "print(model.predict(resnet50.predict(np.array([input_test[0]]))))\n",
    "print(classes)\n",
    "print('----')\n",
    "print(input_test[0].shape)\n",
    "print(list(zip(model.predict(resnet50.predict(np.array([input_test[0]])))[0], classes)))\n",
    "out_test[0]"
   ]
  },
  {
   "cell_type": "code",
   "execution_count": null,
   "metadata": {},
   "outputs": [],
   "source": []
  },
  {
   "cell_type": "code",
   "execution_count": null,
   "metadata": {},
   "outputs": [
    {
     "name": "stdout",
     "output_type": "stream",
     "text": [
      " * Serving Flask app \"__main__\" (lazy loading)\n",
      " * Environment: production\n",
      "   WARNING: This is a development server. Do not use it in a production deployment.\n",
      "   Use a production WSGI server instead.\n",
      " * Debug mode: on\n"
     ]
    },
    {
     "name": "stderr",
     "output_type": "stream",
     "text": [
      " * Running on http://127.0.0.1:5000/ (Press CTRL+C to quit)\n",
      "127.0.0.1 - - [18/Sep/2019 17:42:02] \"\u001b[37mPOST /predict HTTP/1.1\u001b[0m\" 200 -\n"
     ]
    },
    {
     "name": "stdout",
     "output_type": "stream",
     "text": [
      "----\n",
      "(224, 224, 3)\n",
      "----\n",
      "prediction\n",
      "[('0.00022993507', 'Saltbox'), ('2.664498e-05', 'QueenAnne'), ('0.99533844', 'AFrame'), ('3.6225214e-05', 'Patio'), ('9.786252e-06', 'BayGable'), ('0.0043591107', 'Dogtrot')]\n"
     ]
    }
   ],
   "source": [
    "from flask import Flask\n",
    "from flask import request\n",
    "app = Flask(__name__)\n",
    "\n",
    "@app.route('/predict', methods=['POST']) #GET requests will be blocked\n",
    "def hello_world():\n",
    "    req_data = request.get_json()\n",
    "    img = req_data['image']\n",
    "    img = decode_img(img).resize((224,224)).convert('RGB')\n",
    "    img = image.img_to_array(img)\n",
    "    x = preprocess_input(img)\n",
    "    print('----')\n",
    "    print(x.shape)\n",
    "    print('----')\n",
    "    global sess\n",
    "    global graph\n",
    "    with graph.as_default():\n",
    "        set_session(sess)\n",
    "        pred = model.predict(resnet50.predict(np.array([x])))[0]\n",
    "        pred = [str(f) for f in pred]\n",
    "        prediction = list(zip(pred, classes))\n",
    "    print('prediction')\n",
    "    print(prediction)\n",
    "    return {\n",
    "        'prediction': prediction\n",
    "    }\n",
    "\n",
    "app.run(debug=True, use_reloader=False)"
   ]
  },
  {
   "cell_type": "code",
   "execution_count": null,
   "metadata": {},
   "outputs": [],
   "source": []
  }
 ],
 "metadata": {
  "kernelspec": {
   "display_name": "Python 3",
   "language": "python",
   "name": "python3"
  },
  "language_info": {
   "codemirror_mode": {
    "name": "ipython",
    "version": 3
   },
   "file_extension": ".py",
   "mimetype": "text/x-python",
   "name": "python",
   "nbconvert_exporter": "python",
   "pygments_lexer": "ipython3",
   "version": "3.7.3"
  }
 },
 "nbformat": 4,
 "nbformat_minor": 4
}
