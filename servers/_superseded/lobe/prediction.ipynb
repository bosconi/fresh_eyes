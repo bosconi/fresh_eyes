{
 "cells": [
  {
   "cell_type": "code",
   "execution_count": 9,
   "metadata": {},
   "outputs": [],
   "source": [
    "import tensorflow as tf \n",
    "import os\n",
    "import base64\n",
    "\n",
    "dir_path = os.path.dirname(\"/Users/adammenges/Development/lobe/serving_server/\")\n",
    "exported_path = os.path.join(dir_path,  \"savedModel\")\n",
    "\n",
    "base64String = \"/9j/4AAQSkZJRgABAQAAAQABAAD/2wBDAAMCAgICAgMCAgIDAwMDBAYEBAQEBAgGBgUGCQgKCgkICQkKDA8MCgsOCwkJDRENDg8QEBEQCgwSExIQEw8QEBD/2wBDAQMDAwQDBAgEBAgQCwkLEBAQEBAQEBAQEBAQEBAQEBAQEBAQEBAQEBAQEBAQEBAQEBAQEBAQEBAQEBAQEBAQEBD/wAARCAA8ADwDASIAAhEBAxEB/8QAHgAAAQQDAAMAAAAAAAAAAAAAAAQFBgcBCAkCAwr/xAA+EAABAgMEBQcHDQEAAAAAAAABAAIDBBEFBhNRBxIUFSExQVKRoeHwCAkiYXGksRcYMkNTVmJygaLB0dLT/8QAFAEBAAAAAAAAAAAAAAAAAAAAAP/EABQRAQAAAAAAAAAAAAAAAAAAAAD/2gAMAwEAAhEDEQA/ANGMM5Iwzknbd78vHWjd78vHWgacM5Iwzknbd78vHWvW+BDhu1XvofYgbcM5IwzknVkliDWYahZ3e/Lx1oGnDOSMM5J23e/Lx1o3e/Lx1oLRlrlOnCRLenQVPN8XJR8nc79l+4f6Wy/kFXQu7fnSpbFk3ns/bJWDd2PMMh4r4dIgmZZoNWOaeR7uFacVvd83vRH90/f5r/og4vXwu1MXcsjborNUPiCEDUHiQTmclVE1OOMUmvOuofnMdF1xrj6BLGta7FibHNRb1y0u+JtMaJWGZObcRR7yOVjeNK8FytmXHEKCTXdnKzLGu4gmhU1iQpRkTU1K+upVcWA87UwesKdR3ux/aUEjs+7MO0YRiQD9EVcMh+pXk67Eu00dF4j8J/tLrpxHCVj8fq/5WI0V2IUF8eRzpouToZ0qutu+U9s1lWnZcxZsxN4UZ+y1cyM1+pDY9z6vgth0AFMTWrRtD1VXzy78i9Ls7kb8i9Ls7kHU3zrDC/ydLDA5r4Sh9ynVyDmYJxCpa+2HRGFjzVp5R4CaY8CDEfrB3L6igxd6ATNQxTnCnkeUdjnhzqHSUaHJHWYau5il2/IvS7O5BZt3piTkYERszF1S9tB6JPwRFjSbnktjcPylVlvyL0uzuRvyL0uzuQRfaCjaCk9SipQKNoKNoKT1KKlAo2go2gpPUoqUCjaCjaCk9SipQf/Z\""
   ]
  },
  {
   "cell_type": "code",
   "execution_count": 10,
   "metadata": {},
   "outputs": [],
   "source": [
    "# exported_path"
   ]
  },
  {
   "cell_type": "code",
   "execution_count": 11,
   "metadata": {},
   "outputs": [],
   "source": [
    "# tf.train.Feature??"
   ]
  },
  {
   "cell_type": "code",
   "execution_count": 12,
   "metadata": {},
   "outputs": [],
   "source": [
    "# with tf.Session() as sess:\n",
    "#     tf.saved_model.loader.load(sess, [tf.saved_model.tag_constants.SERVING], exported_path)\n",
    "#     predictor = tf.contrib.predictor.from_saved_model(exported_path)\n",
    "#     print(predictor._feed_tensors.keys())"
   ]
  },
  {
   "cell_type": "code",
   "execution_count": 13,
   "metadata": {},
   "outputs": [
    {
     "name": "stdout",
     "output_type": "stream",
     "text": [
      "INFO:tensorflow:Restoring parameters from b'/Users/adammenges/Development/lobe/serving_server/savedModel/variables/variables'\n",
      "dict_keys(['image_bytes', 'batch_size'])\n"
     ]
    }
   ],
   "source": [
    "predictor = tf.contrib.predictor.from_saved_model(exported_path)\n",
    "print(predictor._feed_tensors.keys())"
   ]
  },
  {
   "cell_type": "code",
   "execution_count": 14,
   "metadata": {},
   "outputs": [
    {
     "name": "stderr",
     "output_type": "stream",
     "text": [
      "/usr/local/lib/python3.6/site-packages/ipykernel/__main__.py:1: DeprecationWarning: decodestring() is a deprecated alias since Python 3.1, use decodebytes()\n",
      "  if __name__ == '__main__':\n"
     ]
    },
    {
     "data": {
      "text/plain": [
       "{'confidences_idx_000': array([[b'Column Row', b'Covered Column Row', b'Covered Four Walls',\n",
       "         b'Covered L-Shaped Wall', b'Covered Multiple Columns',\n",
       "         b'Covered Parallel Walls', b'Covered Single Wall',\n",
       "         b'Covered U-Shaped Wall', b'Four Walls', b'L-Shaped Wall',\n",
       "         b'Multiple Columns', b'Parallel Walls', b'Single Column',\n",
       "         b'Single Wall', b'U-Shaped Wall']], dtype=object),\n",
       " 'confidences_idx_001': array([[  1.38252319e-04,   4.35634283e-05,   1.43215648e-05,\n",
       "           6.73046568e-04,   2.99232215e-06,   1.82195883e-02,\n",
       "           2.40893266e-03,   9.75615025e-01,   1.56847912e-09,\n",
       "           7.69513827e-06,   6.22447232e-08,   2.50363979e-03,\n",
       "           1.21448949e-08,   3.69552698e-04,   3.30946727e-06]], dtype=float32),\n",
       " 'prediction': array([b'Covered U-Shaped Wall'], dtype=object)}"
      ]
     },
     "execution_count": 14,
     "metadata": {},
     "output_type": "execute_result"
    }
   ],
   "source": [
    "predictor({\"image_bytes\": [base64.decodestring(bytes(base64String, 'utf-8'))], \"batch_size\": 1})"
   ]
  },
  {
   "cell_type": "code",
   "execution_count": 15,
   "metadata": {},
   "outputs": [
    {
     "data": {
      "text/plain": [
       "\u001b[0;31mSignature:\u001b[0m      \u001b[0mpredictor\u001b[0m\u001b[0;34m(\u001b[0m\u001b[0minput_dict\u001b[0m\u001b[0;34m)\u001b[0m\u001b[0;34m\u001b[0m\u001b[0m\n",
       "\u001b[0;31mType:\u001b[0m           SavedModelPredictor\n",
       "\u001b[0;31mString form:\u001b[0m    SavedModelPredictor with feed tensors {'image_bytes': <tf.Tensor '07e05778-c6ae-4c57-a37f-aae0f07 <...> caaa96/86106397-79a5-4280-8e75-e318b36900ac/tied_dense_3/Softmax:0' shape=(?, 15) dtype=float32>}\n",
       "\u001b[0;31mFile:\u001b[0m           /usr/local/lib/python3.6/site-packages/tensorflow/contrib/predictor/saved_model_predictor.py\n",
       "\u001b[0;31mDocstring:\u001b[0m      A `Predictor` constructed from a `SavedModel`.\n",
       "\u001b[0;31mInit docstring:\u001b[0m\n",
       "Initialize a `CoreEstimatorPredictor`.\n",
       "\n",
       "Args:\n",
       "  export_dir: a path to a directory containing a `SavedModel`.\n",
       "  signature_def_key: Optional string specifying the signature to use. If\n",
       "    `None`, then `DEFAULT_SERVING_SIGNATURE_DEF_KEY` is used. Only one of\n",
       "    `signature_def_key` and `signature_def` should be specified.\n",
       "  signature_def: A `SignatureDef` proto specifying the inputs and outputs\n",
       "    for prediction. Only one of `signature_def_key` and `signature_def`\n",
       "    should be specified.\n",
       "  input_names: A dictionary mapping strings to `Tensor`s in the `SavedModel`\n",
       "    that represent the input. The keys can be any string of the user's\n",
       "    choosing.\n",
       "  output_names: A dictionary mapping strings to `Tensor`s in the\n",
       "    `SavedModel` that represent the output. The keys can be any string of\n",
       "    the user's choosing.\n",
       "  tags: Optional. Comma separated list of tags that will be used to retrieve\n",
       "    the correct `SignatureDef`. Defaults to `DEFAULT_TAGS`.\n",
       "  graph: Optional. The Tensorflow `graph` in which prediction should be\n",
       "    done.\n",
       "Raises:\n",
       "  ValueError: If more than one of signature_def_key OR signature_def OR\n",
       "    (input_names AND output_names) is specified.\n",
       "\u001b[0;31mCall docstring:\u001b[0m\n",
       "Returns predictions based on `input_dict`.\n",
       "\n",
       "Args:\n",
       "  input_dict: a `dict` mapping strings to numpy arrays. These keys\n",
       "    must match `self._feed_tensors.keys()`.\n",
       "\n",
       "Returns:\n",
       "  A `dict` mapping strings to numpy arrays. The keys match\n",
       "  `self.fetch_tensors.keys()`.\n",
       "\n",
       "Raises:\n",
       "  ValueError: `input_dict` does not match `feed_tensors`.\n"
      ]
     },
     "metadata": {},
     "output_type": "display_data"
    }
   ],
   "source": [
    "predictor?"
   ]
  },
  {
   "cell_type": "code",
   "execution_count": null,
   "metadata": {},
   "outputs": [],
   "source": []
  }
 ],
 "metadata": {
  "kernelspec": {
   "display_name": "Python 3",
   "language": "python",
   "name": "python3"
  },
  "language_info": {
   "codemirror_mode": {
    "name": "ipython",
    "version": 3
   },
   "file_extension": ".py",
   "mimetype": "text/x-python",
   "name": "python",
   "nbconvert_exporter": "python",
   "pygments_lexer": "ipython3",
   "version": "3.6.4"
  }
 },
 "nbformat": 4,
 "nbformat_minor": 2
}
